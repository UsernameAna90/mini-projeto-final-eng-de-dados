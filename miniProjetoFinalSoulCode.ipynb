{
  "nbformat": 4,
  "nbformat_minor": 0,
  "metadata": {
    "colab": {
      "name": "miniProjetoFinalSoulCode",
      "provenance": [],
      "collapsed_sections": []
    },
    "kernelspec": {
      "name": "python3",
      "display_name": "Python 3"
    },
    "language_info": {
      "name": "python"
    }
  },
  "cells": [
    {
      "cell_type": "markdown",
      "metadata": {
        "id": "TxxdoF5Hqggm"
      },
      "source": [
        "Nível Infra:\n",
        "\n",
        "* Salvar o dataset em uma bucket, no Cloud Storage.\n",
        "* Conceder acesso aos professores.\n",
        "* Salvar os dataframes também na em uma bucket, no Cloud Storage.\n"
      ]
    },
    {
      "cell_type": "markdown",
      "metadata": {
        "id": "_VpXX4wysTlb"
      },
      "source": [
        "Preparando o ambiente:"
      ]
    },
    {
      "cell_type": "code",
      "metadata": {
        "colab": {
          "base_uri": "https://localhost:8080/"
        },
        "id": "cnXYGXLvsY82",
        "outputId": "af1c499b-396d-4c4d-ca1e-a635767796ec"
      },
      "source": [
        "#INSTALANDO FERRAMENTAS NECESSÁRIAS: PYSPARK\n",
        "!pip install pyspark "
      ],
      "execution_count": null,
      "outputs": [
        {
          "output_type": "stream",
          "name": "stdout",
          "text": [
            "Collecting pyspark\n",
            "  Downloading pyspark-3.2.0.tar.gz (281.3 MB)\n",
            "\u001b[K     |████████████████████████████████| 281.3 MB 32 kB/s \n",
            "\u001b[?25hCollecting py4j==0.10.9.2\n",
            "  Downloading py4j-0.10.9.2-py2.py3-none-any.whl (198 kB)\n",
            "\u001b[K     |████████████████████████████████| 198 kB 52.8 MB/s \n",
            "\u001b[?25hBuilding wheels for collected packages: pyspark\n",
            "  Building wheel for pyspark (setup.py) ... \u001b[?25l\u001b[?25hdone\n",
            "  Created wheel for pyspark: filename=pyspark-3.2.0-py2.py3-none-any.whl size=281805912 sha256=37a7a393b568810947c774ce8512ff1dca01e418e6c93524495ef6c111b48f00\n",
            "  Stored in directory: /root/.cache/pip/wheels/0b/de/d2/9be5d59d7331c6c2a7c1b6d1a4f463ce107332b1ecd4e80718\n",
            "Successfully built pyspark\n",
            "Installing collected packages: py4j, pyspark\n",
            "Successfully installed py4j-0.10.9.2 pyspark-3.2.0\n"
          ]
        }
      ]
    },
    {
      "cell_type": "code",
      "metadata": {
        "id": "HZXAwr5-sZY2"
      },
      "source": [
        "#IMPORTANDO BIBLIOTECS NECESSÁRIAS: PANDAS, SPARKSESSION, PYSPARK.SQL, STRUCTTYPE E FUNCTIONS\n",
        "import pandas as pd\n",
        "from pyspark.sql import SparkSession\n",
        "from pyspark.sql.types import StructType, StructField, StringType, IntegerType, DoubleType, DateType\n",
        "import pyspark.sql.functions as F\n",
        "from pyspark.sql.functions import *\n",
        "from pyspark.sql.window import Window\n"
      ],
      "execution_count": null,
      "outputs": []
    },
    {
      "cell_type": "code",
      "metadata": {
        "id": "57_gsm-kz4XB"
      },
      "source": [
        "#CRIANDO UMA CONEXÃO COM O SPARK:\n",
        "spark = (SparkSession.builder\n",
        "         .master(\"local\")\n",
        "         .appName(\"miniProjetoFinalSoulCode\")\n",
        "         .config(\"spark.ui.port\", \"4050\")\n",
        "         .getOrCreate())"
      ],
      "execution_count": null,
      "outputs": []
    },
    {
      "cell_type": "code",
      "metadata": {
        "colab": {
          "base_uri": "https://localhost:8080/",
          "height": 219
        },
        "id": "KLObRp4J7IIf",
        "outputId": "7a97586b-3542-4d3e-8a32-056f43466728"
      },
      "source": [
        "#TESTANDO A CONEXÃO RECÉM-CRIADA:\n",
        "spark"
      ],
      "execution_count": null,
      "outputs": [
        {
          "output_type": "execute_result",
          "data": {
            "text/html": [
              "\n",
              "            <div>\n",
              "                <p><b>SparkSession - in-memory</b></p>\n",
              "                \n",
              "        <div>\n",
              "            <p><b>SparkContext</b></p>\n",
              "\n",
              "            <p><a href=\"http://3f548a6a0afb:4050\">Spark UI</a></p>\n",
              "\n",
              "            <dl>\n",
              "              <dt>Version</dt>\n",
              "                <dd><code>v3.2.0</code></dd>\n",
              "              <dt>Master</dt>\n",
              "                <dd><code>local</code></dd>\n",
              "              <dt>AppName</dt>\n",
              "                <dd><code>miniProjetoFinalSoulCode</code></dd>\n",
              "            </dl>\n",
              "        </div>\n",
              "        \n",
              "            </div>\n",
              "        "
            ],
            "text/plain": [
              "<pyspark.sql.session.SparkSession at 0x7fb81f24ae10>"
            ]
          },
          "metadata": {},
          "execution_count": 4
        }
      ]
    },
    {
      "cell_type": "markdown",
      "metadata": {
        "id": "xCjmisZMr2Ar"
      },
      "source": [
        "Nível Pandas:    \n",
        " "
      ]
    },
    {
      "cell_type": "code",
      "metadata": {
        "id": "XQmfiH1My2nO",
        "colab": {
          "base_uri": "https://localhost:8080/",
          "height": 444
        },
        "outputId": "0a1d8010-f6df-40b3-b074-dd8601d0ef4e"
      },
      "source": [
        "#EXTRAINDO O DATAFRAME\n",
        "df = pd.read_csv(\"/content/drive/MyDrive/marketing_campaign.csv\", sep=\"\\t\",parse_dates=[\"Dt_Customer\"], dayfirst=True)\n",
        "df"
      ],
      "execution_count": null,
      "outputs": [
        {
          "output_type": "execute_result",
          "data": {
            "text/html": [
              "<div>\n",
              "<style scoped>\n",
              "    .dataframe tbody tr th:only-of-type {\n",
              "        vertical-align: middle;\n",
              "    }\n",
              "\n",
              "    .dataframe tbody tr th {\n",
              "        vertical-align: top;\n",
              "    }\n",
              "\n",
              "    .dataframe thead th {\n",
              "        text-align: right;\n",
              "    }\n",
              "</style>\n",
              "<table border=\"1\" class=\"dataframe\">\n",
              "  <thead>\n",
              "    <tr style=\"text-align: right;\">\n",
              "      <th></th>\n",
              "      <th>ID</th>\n",
              "      <th>Year_Birth</th>\n",
              "      <th>Education</th>\n",
              "      <th>Marital_Status</th>\n",
              "      <th>Income</th>\n",
              "      <th>Kidhome</th>\n",
              "      <th>Teenhome</th>\n",
              "      <th>Dt_Customer</th>\n",
              "      <th>Recency</th>\n",
              "      <th>MntWines</th>\n",
              "      <th>MntFruits</th>\n",
              "      <th>MntMeatProducts</th>\n",
              "      <th>MntFishProducts</th>\n",
              "      <th>MntSweetProducts</th>\n",
              "      <th>MntGoldProds</th>\n",
              "      <th>NumDealsPurchases</th>\n",
              "      <th>NumWebPurchases</th>\n",
              "      <th>NumCatalogPurchases</th>\n",
              "      <th>NumStorePurchases</th>\n",
              "      <th>NumWebVisitsMonth</th>\n",
              "      <th>AcceptedCmp3</th>\n",
              "      <th>AcceptedCmp4</th>\n",
              "      <th>AcceptedCmp5</th>\n",
              "      <th>AcceptedCmp1</th>\n",
              "      <th>AcceptedCmp2</th>\n",
              "      <th>Complain</th>\n",
              "      <th>Z_CostContact</th>\n",
              "      <th>Z_Revenue</th>\n",
              "      <th>Response</th>\n",
              "    </tr>\n",
              "  </thead>\n",
              "  <tbody>\n",
              "    <tr>\n",
              "      <th>0</th>\n",
              "      <td>5524</td>\n",
              "      <td>1957</td>\n",
              "      <td>Graduation</td>\n",
              "      <td>Single</td>\n",
              "      <td>58138.0</td>\n",
              "      <td>0</td>\n",
              "      <td>0</td>\n",
              "      <td>2012-09-04</td>\n",
              "      <td>58</td>\n",
              "      <td>635</td>\n",
              "      <td>88</td>\n",
              "      <td>546</td>\n",
              "      <td>172</td>\n",
              "      <td>88</td>\n",
              "      <td>88</td>\n",
              "      <td>3</td>\n",
              "      <td>8</td>\n",
              "      <td>10</td>\n",
              "      <td>4</td>\n",
              "      <td>7</td>\n",
              "      <td>0</td>\n",
              "      <td>0</td>\n",
              "      <td>0</td>\n",
              "      <td>0</td>\n",
              "      <td>0</td>\n",
              "      <td>0</td>\n",
              "      <td>3</td>\n",
              "      <td>11</td>\n",
              "      <td>1</td>\n",
              "    </tr>\n",
              "    <tr>\n",
              "      <th>1</th>\n",
              "      <td>2174</td>\n",
              "      <td>1954</td>\n",
              "      <td>Graduation</td>\n",
              "      <td>Single</td>\n",
              "      <td>46344.0</td>\n",
              "      <td>1</td>\n",
              "      <td>1</td>\n",
              "      <td>2014-03-08</td>\n",
              "      <td>38</td>\n",
              "      <td>11</td>\n",
              "      <td>1</td>\n",
              "      <td>6</td>\n",
              "      <td>2</td>\n",
              "      <td>1</td>\n",
              "      <td>6</td>\n",
              "      <td>2</td>\n",
              "      <td>1</td>\n",
              "      <td>1</td>\n",
              "      <td>2</td>\n",
              "      <td>5</td>\n",
              "      <td>0</td>\n",
              "      <td>0</td>\n",
              "      <td>0</td>\n",
              "      <td>0</td>\n",
              "      <td>0</td>\n",
              "      <td>0</td>\n",
              "      <td>3</td>\n",
              "      <td>11</td>\n",
              "      <td>0</td>\n",
              "    </tr>\n",
              "    <tr>\n",
              "      <th>2</th>\n",
              "      <td>4141</td>\n",
              "      <td>1965</td>\n",
              "      <td>Graduation</td>\n",
              "      <td>Together</td>\n",
              "      <td>71613.0</td>\n",
              "      <td>0</td>\n",
              "      <td>0</td>\n",
              "      <td>2013-08-21</td>\n",
              "      <td>26</td>\n",
              "      <td>426</td>\n",
              "      <td>49</td>\n",
              "      <td>127</td>\n",
              "      <td>111</td>\n",
              "      <td>21</td>\n",
              "      <td>42</td>\n",
              "      <td>1</td>\n",
              "      <td>8</td>\n",
              "      <td>2</td>\n",
              "      <td>10</td>\n",
              "      <td>4</td>\n",
              "      <td>0</td>\n",
              "      <td>0</td>\n",
              "      <td>0</td>\n",
              "      <td>0</td>\n",
              "      <td>0</td>\n",
              "      <td>0</td>\n",
              "      <td>3</td>\n",
              "      <td>11</td>\n",
              "      <td>0</td>\n",
              "    </tr>\n",
              "    <tr>\n",
              "      <th>3</th>\n",
              "      <td>6182</td>\n",
              "      <td>1984</td>\n",
              "      <td>Graduation</td>\n",
              "      <td>Together</td>\n",
              "      <td>26646.0</td>\n",
              "      <td>1</td>\n",
              "      <td>0</td>\n",
              "      <td>2014-02-10</td>\n",
              "      <td>26</td>\n",
              "      <td>11</td>\n",
              "      <td>4</td>\n",
              "      <td>20</td>\n",
              "      <td>10</td>\n",
              "      <td>3</td>\n",
              "      <td>5</td>\n",
              "      <td>2</td>\n",
              "      <td>2</td>\n",
              "      <td>0</td>\n",
              "      <td>4</td>\n",
              "      <td>6</td>\n",
              "      <td>0</td>\n",
              "      <td>0</td>\n",
              "      <td>0</td>\n",
              "      <td>0</td>\n",
              "      <td>0</td>\n",
              "      <td>0</td>\n",
              "      <td>3</td>\n",
              "      <td>11</td>\n",
              "      <td>0</td>\n",
              "    </tr>\n",
              "    <tr>\n",
              "      <th>4</th>\n",
              "      <td>5324</td>\n",
              "      <td>1981</td>\n",
              "      <td>PhD</td>\n",
              "      <td>Married</td>\n",
              "      <td>58293.0</td>\n",
              "      <td>1</td>\n",
              "      <td>0</td>\n",
              "      <td>2014-01-19</td>\n",
              "      <td>94</td>\n",
              "      <td>173</td>\n",
              "      <td>43</td>\n",
              "      <td>118</td>\n",
              "      <td>46</td>\n",
              "      <td>27</td>\n",
              "      <td>15</td>\n",
              "      <td>5</td>\n",
              "      <td>5</td>\n",
              "      <td>3</td>\n",
              "      <td>6</td>\n",
              "      <td>5</td>\n",
              "      <td>0</td>\n",
              "      <td>0</td>\n",
              "      <td>0</td>\n",
              "      <td>0</td>\n",
              "      <td>0</td>\n",
              "      <td>0</td>\n",
              "      <td>3</td>\n",
              "      <td>11</td>\n",
              "      <td>0</td>\n",
              "    </tr>\n",
              "    <tr>\n",
              "      <th>...</th>\n",
              "      <td>...</td>\n",
              "      <td>...</td>\n",
              "      <td>...</td>\n",
              "      <td>...</td>\n",
              "      <td>...</td>\n",
              "      <td>...</td>\n",
              "      <td>...</td>\n",
              "      <td>...</td>\n",
              "      <td>...</td>\n",
              "      <td>...</td>\n",
              "      <td>...</td>\n",
              "      <td>...</td>\n",
              "      <td>...</td>\n",
              "      <td>...</td>\n",
              "      <td>...</td>\n",
              "      <td>...</td>\n",
              "      <td>...</td>\n",
              "      <td>...</td>\n",
              "      <td>...</td>\n",
              "      <td>...</td>\n",
              "      <td>...</td>\n",
              "      <td>...</td>\n",
              "      <td>...</td>\n",
              "      <td>...</td>\n",
              "      <td>...</td>\n",
              "      <td>...</td>\n",
              "      <td>...</td>\n",
              "      <td>...</td>\n",
              "      <td>...</td>\n",
              "    </tr>\n",
              "    <tr>\n",
              "      <th>2235</th>\n",
              "      <td>10870</td>\n",
              "      <td>1967</td>\n",
              "      <td>Graduation</td>\n",
              "      <td>Married</td>\n",
              "      <td>61223.0</td>\n",
              "      <td>0</td>\n",
              "      <td>1</td>\n",
              "      <td>2013-06-13</td>\n",
              "      <td>46</td>\n",
              "      <td>709</td>\n",
              "      <td>43</td>\n",
              "      <td>182</td>\n",
              "      <td>42</td>\n",
              "      <td>118</td>\n",
              "      <td>247</td>\n",
              "      <td>2</td>\n",
              "      <td>9</td>\n",
              "      <td>3</td>\n",
              "      <td>4</td>\n",
              "      <td>5</td>\n",
              "      <td>0</td>\n",
              "      <td>0</td>\n",
              "      <td>0</td>\n",
              "      <td>0</td>\n",
              "      <td>0</td>\n",
              "      <td>0</td>\n",
              "      <td>3</td>\n",
              "      <td>11</td>\n",
              "      <td>0</td>\n",
              "    </tr>\n",
              "    <tr>\n",
              "      <th>2236</th>\n",
              "      <td>4001</td>\n",
              "      <td>1946</td>\n",
              "      <td>PhD</td>\n",
              "      <td>Together</td>\n",
              "      <td>64014.0</td>\n",
              "      <td>2</td>\n",
              "      <td>1</td>\n",
              "      <td>2014-06-10</td>\n",
              "      <td>56</td>\n",
              "      <td>406</td>\n",
              "      <td>0</td>\n",
              "      <td>30</td>\n",
              "      <td>0</td>\n",
              "      <td>0</td>\n",
              "      <td>8</td>\n",
              "      <td>7</td>\n",
              "      <td>8</td>\n",
              "      <td>2</td>\n",
              "      <td>5</td>\n",
              "      <td>7</td>\n",
              "      <td>0</td>\n",
              "      <td>0</td>\n",
              "      <td>0</td>\n",
              "      <td>1</td>\n",
              "      <td>0</td>\n",
              "      <td>0</td>\n",
              "      <td>3</td>\n",
              "      <td>11</td>\n",
              "      <td>0</td>\n",
              "    </tr>\n",
              "    <tr>\n",
              "      <th>2237</th>\n",
              "      <td>7270</td>\n",
              "      <td>1981</td>\n",
              "      <td>Graduation</td>\n",
              "      <td>Divorced</td>\n",
              "      <td>56981.0</td>\n",
              "      <td>0</td>\n",
              "      <td>0</td>\n",
              "      <td>2014-01-25</td>\n",
              "      <td>91</td>\n",
              "      <td>908</td>\n",
              "      <td>48</td>\n",
              "      <td>217</td>\n",
              "      <td>32</td>\n",
              "      <td>12</td>\n",
              "      <td>24</td>\n",
              "      <td>1</td>\n",
              "      <td>2</td>\n",
              "      <td>3</td>\n",
              "      <td>13</td>\n",
              "      <td>6</td>\n",
              "      <td>0</td>\n",
              "      <td>1</td>\n",
              "      <td>0</td>\n",
              "      <td>0</td>\n",
              "      <td>0</td>\n",
              "      <td>0</td>\n",
              "      <td>3</td>\n",
              "      <td>11</td>\n",
              "      <td>0</td>\n",
              "    </tr>\n",
              "    <tr>\n",
              "      <th>2238</th>\n",
              "      <td>8235</td>\n",
              "      <td>1956</td>\n",
              "      <td>Master</td>\n",
              "      <td>Together</td>\n",
              "      <td>69245.0</td>\n",
              "      <td>0</td>\n",
              "      <td>1</td>\n",
              "      <td>2014-01-24</td>\n",
              "      <td>8</td>\n",
              "      <td>428</td>\n",
              "      <td>30</td>\n",
              "      <td>214</td>\n",
              "      <td>80</td>\n",
              "      <td>30</td>\n",
              "      <td>61</td>\n",
              "      <td>2</td>\n",
              "      <td>6</td>\n",
              "      <td>5</td>\n",
              "      <td>10</td>\n",
              "      <td>3</td>\n",
              "      <td>0</td>\n",
              "      <td>0</td>\n",
              "      <td>0</td>\n",
              "      <td>0</td>\n",
              "      <td>0</td>\n",
              "      <td>0</td>\n",
              "      <td>3</td>\n",
              "      <td>11</td>\n",
              "      <td>0</td>\n",
              "    </tr>\n",
              "    <tr>\n",
              "      <th>2239</th>\n",
              "      <td>9405</td>\n",
              "      <td>1954</td>\n",
              "      <td>PhD</td>\n",
              "      <td>Married</td>\n",
              "      <td>52869.0</td>\n",
              "      <td>1</td>\n",
              "      <td>1</td>\n",
              "      <td>2012-10-15</td>\n",
              "      <td>40</td>\n",
              "      <td>84</td>\n",
              "      <td>3</td>\n",
              "      <td>61</td>\n",
              "      <td>2</td>\n",
              "      <td>1</td>\n",
              "      <td>21</td>\n",
              "      <td>3</td>\n",
              "      <td>3</td>\n",
              "      <td>1</td>\n",
              "      <td>4</td>\n",
              "      <td>7</td>\n",
              "      <td>0</td>\n",
              "      <td>0</td>\n",
              "      <td>0</td>\n",
              "      <td>0</td>\n",
              "      <td>0</td>\n",
              "      <td>0</td>\n",
              "      <td>3</td>\n",
              "      <td>11</td>\n",
              "      <td>1</td>\n",
              "    </tr>\n",
              "  </tbody>\n",
              "</table>\n",
              "<p>2240 rows × 29 columns</p>\n",
              "</div>"
            ],
            "text/plain": [
              "         ID  Year_Birth   Education  ... Z_CostContact  Z_Revenue  Response\n",
              "0      5524        1957  Graduation  ...             3         11         1\n",
              "1      2174        1954  Graduation  ...             3         11         0\n",
              "2      4141        1965  Graduation  ...             3         11         0\n",
              "3      6182        1984  Graduation  ...             3         11         0\n",
              "4      5324        1981         PhD  ...             3         11         0\n",
              "...     ...         ...         ...  ...           ...        ...       ...\n",
              "2235  10870        1967  Graduation  ...             3         11         0\n",
              "2236   4001        1946         PhD  ...             3         11         0\n",
              "2237   7270        1981  Graduation  ...             3         11         0\n",
              "2238   8235        1956      Master  ...             3         11         0\n",
              "2239   9405        1954         PhD  ...             3         11         1\n",
              "\n",
              "[2240 rows x 29 columns]"
            ]
          },
          "metadata": {},
          "execution_count": 5
        }
      ]
    },
    {
      "cell_type": "code",
      "metadata": {
        "id": "s9XJ_5lzVP9P"
      },
      "source": [
        "#CRIANDO UM BACKUP:\n",
        "backup = df.copy()"
      ],
      "execution_count": null,
      "outputs": []
    },
    {
      "cell_type": "code",
      "metadata": {
        "id": "Cr5OthbXzGuc"
      },
      "source": [
        "#DROPAR COLUNAS SE NECESSÁRIO\n",
        "\n",
        "#Dropando a coluna \"Z_CostContact\", porque supondo que o objetivo do df seja buscar razões que levaram o cliente a executar uma compra, ela é descnecessária além de que seus dados são repetidos. \n",
        "df.drop([\"Z_CostContact\"], axis=1, inplace=True) \n",
        "\n",
        "#Dropando a coluna \"Z_Revenue\", pelo mesmo motivo da coluna anterior.\n",
        "df.drop([\"Z_Revenue\"], axis=1, inplace=True) \n"
      ],
      "execution_count": null,
      "outputs": []
    },
    {
      "cell_type": "code",
      "metadata": {
        "id": "Q6ShN-tpyq75"
      },
      "source": [
        "#TRADUZINDO O DATAFRAME PARA PORTUGÊS:\n",
        "\n",
        "#Traduzindo os campos para português\n",
        "df.loc[df.Education == \"Graduation\", [\"Education\"]] = \"Graduacao\"\n",
        "df.loc[df.Education == \"PhD\", [\"Education\"]] = \"Doutorado\"\n",
        "df.loc[df.Education == \"Basic\", [\"Education\"]] = \"Basica\"\n",
        "df.loc[df.Education == \"2n Cycle\", [\"Education\"]] = \"2ª Graduacao\"\n",
        "df.loc[df.Education == \"Master\", [\"Education\"]] = \"Mestrado\"\n",
        "\n",
        "df.loc[df.Marital_Status == \"Single\", [\"Marital_Status\"]] = \"Solteiro\"\n",
        "df.loc[df.Marital_Status == \"Alone\", [\"Marital_Status\"]] = \"Solteiro\"\n",
        "df.loc[df.Marital_Status == \"Together\", [\"Marital_Status\"]] = \"Morando Junto\"\n",
        "df.loc[df.Marital_Status == \"Married\", [\"Marital_Status\"]] = \"Casado\"\n",
        "df.loc[df.Marital_Status == \"Divorced\", [\"Marital_Status\"]] = \"Divorciado\"\n",
        "df.loc[df.Marital_Status == \"Widow\", [\"Marital_Status\"]] = \"Viuvo\"\n",
        "df.loc[df.Marital_Status == \"Absurd\", [\"Marital_Status\"]] = \"Incerto\"\n",
        "df.loc[df.Marital_Status == \"YOLO\", [\"Marital_Status\"]] = \"Noivo\""
      ],
      "execution_count": null,
      "outputs": []
    },
    {
      "cell_type": "code",
      "metadata": {
        "id": "Rk45Vhn1qK9a"
      },
      "source": [
        "#Traduzindo o cabeçalho para português\n",
        "df.rename(columns={\"ID\": \"idCliente\",\n",
        "                   \"Year_Birth\": \"anoNascimento\",\n",
        "                   \"Education\": \"escolaridade\",\n",
        "                   \"Marital_Status\": \"statusMatrimonial\",\n",
        "                   \"Income\": \"rendaAnual\",\n",
        "                   \"Kidhome\": \"filhoCrianca\",\n",
        "                   \"Teenhome\": \"filhoAdolesc\",\n",
        "                   \"Dt_Customer\": \"ingressoCliente\",\n",
        "                   \"Recency\": \"diasUltimaCompra\",\n",
        "                   \"MntWines\": \"gastosVinho\",\n",
        "                   \"MntFruits\":\t\"gastosFrutas\",\n",
        "                   \"MntMeatProducts\":\t\"gastosCarne\",\n",
        "                   \"MntFishProducts\":\t\"gastosProdutos\",\n",
        "                   \"MntSweetProducts\": \"gastosProdsDoces\",\n",
        "                   \"MntGoldProds\": \"gastosProdsOuro\",\n",
        "                   \"NumDealsPurchases\":\t\"comprasDesconto\",\n",
        "                   \"NumWebPurchases\":\t\"comprasWeb\",\n",
        "                   \"NumCatalogPurchases\":\t\"comprasCatalogo\",\n",
        "                   \"NumStorePurchases\":\t\"comprasLoja\",\n",
        "                   \"NumWebVisitsMonth\":\t\"visitasWebMes\",\n",
        "                   \"AcceptedCmp3\": \"ofertaAceitaCampanha3\",\n",
        "                   \"AcceptedCmp4\": \"ofertaAceitaCampanha4\",\n",
        "                   \"AcceptedCmp5\": \"ofertaAceitaCampanha5\",\n",
        "                   \"AcceptedCmp1\": \"ofertaAceitaCampanha1\",\n",
        "                   \"AcceptedCmp2\": \"ofertaAceitaCampanha2\",\n",
        "                   \"Complain\": \"reclamacoes\",\n",
        "                   \"Response\":\"ofertaAceitaUltimaCamp\"}, inplace=True)\n"
      ],
      "execution_count": null,
      "outputs": []
    },
    {
      "cell_type": "code",
      "metadata": {
        "id": "3KPBH75fy_fZ",
        "colab": {
          "base_uri": "https://localhost:8080/"
        },
        "outputId": "fc58a03d-2ebc-416f-e9e9-ed758a387fd1"
      },
      "source": [
        "#LIMPANDO DADOS INCONSISTENTES\n",
        "\n",
        "#Convertendo dados incoerentes\n",
        "\n",
        "tiposDeDados = {\n",
        "       \"escolaridade\": \"string\",\n",
        "       \"statusMatrimonial\": \"string\",\n",
        "       \"gastosVinho\": \"float64\",\n",
        "       \"gastosFrutas\": \"float64\",\n",
        "       \"gastosCarne\": \"float64\",\n",
        "       \"gastosProdutos\": \"float64\",\n",
        "       \"gastosProdsDoces\": \"float64\",\n",
        "       \"gastosProdsOuro\": \"float64\"\n",
        "       }\n",
        "  \n",
        "df = df.astype(tiposDeDados)\n",
        "df.dtypes\n"
      ],
      "execution_count": null,
      "outputs": [
        {
          "output_type": "execute_result",
          "data": {
            "text/plain": [
              "idCliente                          int64\n",
              "anoNascimento                      int64\n",
              "escolaridade                      string\n",
              "statusMatrimonial                 string\n",
              "rendaAnual                       float64\n",
              "filhoCrianca                       int64\n",
              "filhoAdolesc                       int64\n",
              "ingressoCliente           datetime64[ns]\n",
              "diasUltimaCompra                   int64\n",
              "gastosVinho                      float64\n",
              "gastosFrutas                     float64\n",
              "gastosCarne                      float64\n",
              "gastosProdutos                   float64\n",
              "gastosProdsDoces                 float64\n",
              "gastosProdsOuro                  float64\n",
              "comprasDesconto                    int64\n",
              "comprasWeb                         int64\n",
              "comprasCatalogo                    int64\n",
              "comprasLoja                        int64\n",
              "visitasWebMes                      int64\n",
              "ofertaAceitaCampanha3              int64\n",
              "ofertaAceitaCampanha4              int64\n",
              "ofertaAceitaCampanha5              int64\n",
              "ofertaAceitaCampanha1              int64\n",
              "ofertaAceitaCampanha2              int64\n",
              "reclamacoes                        int64\n",
              "ofertaAceitaUltimaCamp             int64\n",
              "dtype: object"
            ]
          },
          "metadata": {},
          "execution_count": 10
        }
      ]
    },
    {
      "cell_type": "code",
      "metadata": {
        "id": "nl4cvWKoi4Rt"
      },
      "source": [
        "#SALVANDO O DATAFRAME RESULTANTE\n",
        "df.to_csv(\"clear_marketing_campaign.csv\", index=False)"
      ],
      "execution_count": null,
      "outputs": []
    },
    {
      "cell_type": "markdown",
      "metadata": {
        "id": "g1P3sn3uz_th"
      },
      "source": [
        "Nível PySpark:"
      ]
    },
    {
      "cell_type": "code",
      "metadata": {
        "id": "ojnj3agJ0Hui"
      },
      "source": [
        "#MONTANDO O DATAFRAME COM \"STRUCTTYPE\"\n",
        "\n",
        "schema = StructType() \\\n",
        "      .add(\"idCliente\",IntegerType(),True) \\\n",
        "      .add(\"anoNascimento\",IntegerType(),True) \\\n",
        "      .add(\"escolaridade\",StringType(),True) \\\n",
        "      .add(\"statusMatrimonial\",StringType(),True) \\\n",
        "      .add(\"rendaAnual\",DoubleType(),True) \\\n",
        "      .add(\"filhoCrianca\",IntegerType(),True) \\\n",
        "      .add(\"filhoAdolesc\",IntegerType(),True) \\\n",
        "      .add(\"ingressoCliente\",DateType(),True) \\\n",
        "      .add(\"diasUltimaCompra\",IntegerType(),True) \\\n",
        "      .add(\"gastosVinho\",DoubleType(),True) \\\n",
        "      .add(\"gastosFrutas\",DoubleType(),True) \\\n",
        "      .add(\"gastosCarne\",DoubleType(),True) \\\n",
        "      .add(\"gastosProdutos\",DoubleType(),True) \\\n",
        "      .add(\"gastosProdsDoces\",DoubleType(),True) \\\n",
        "      .add(\"gastosProdsOuro\",DoubleType(),True) \\\n",
        "      .add(\"comprasDesconto\",IntegerType(),True) \n",
        "\n",
        "df1 = spark.read.format(\"csv\") \\\n",
        "      .option(\"header\", True) \\\n",
        "      .schema(schema) \\\n",
        "      .load(\"/content/drive/MyDrive/clear_marketing_campaign.csv\")\n"
      ],
      "execution_count": null,
      "outputs": []
    },
    {
      "cell_type": "code",
      "metadata": {
        "colab": {
          "base_uri": "https://localhost:8080/"
        },
        "id": "gF778PX7cXcu",
        "outputId": "ed4daecc-ef50-4ec6-949c-b044ece3cebb"
      },
      "source": [
        "df1.printSchema()\n",
        "df1.show()"
      ],
      "execution_count": null,
      "outputs": [
        {
          "output_type": "stream",
          "name": "stdout",
          "text": [
            "root\n",
            " |-- idCliente: integer (nullable = true)\n",
            " |-- anoNascimento: integer (nullable = true)\n",
            " |-- escolaridade: string (nullable = true)\n",
            " |-- statusMatrimonial: string (nullable = true)\n",
            " |-- rendaAnual: double (nullable = true)\n",
            " |-- filhoCrianca: integer (nullable = true)\n",
            " |-- filhoAdolesc: integer (nullable = true)\n",
            " |-- ingressoCliente: date (nullable = true)\n",
            " |-- diasUltimaCompra: integer (nullable = true)\n",
            " |-- gastosVinho: double (nullable = true)\n",
            " |-- gastosFrutas: double (nullable = true)\n",
            " |-- gastosCarne: double (nullable = true)\n",
            " |-- gastosProdutos: double (nullable = true)\n",
            " |-- gastosProdsDoces: double (nullable = true)\n",
            " |-- gastosProdsOuro: double (nullable = true)\n",
            " |-- comprasDesconto: integer (nullable = true)\n",
            "\n",
            "+---------+-------------+------------+-----------------+----------+------------+------------+---------------+----------------+-----------+------------+-----------+--------------+----------------+---------------+---------------+\n",
            "|idCliente|anoNascimento|escolaridade|statusMatrimonial|rendaAnual|filhoCrianca|filhoAdolesc|ingressoCliente|diasUltimaCompra|gastosVinho|gastosFrutas|gastosCarne|gastosProdutos|gastosProdsDoces|gastosProdsOuro|comprasDesconto|\n",
            "+---------+-------------+------------+-----------------+----------+------------+------------+---------------+----------------+-----------+------------+-----------+--------------+----------------+---------------+---------------+\n",
            "|     5524|         1957|   Graduacao|         Solteiro|   58138.0|           0|           0|     2012-09-04|              58|      635.0|        88.0|      546.0|         172.0|            88.0|           88.0|              3|\n",
            "|     2174|         1954|   Graduacao|         Solteiro|   46344.0|           1|           1|     2014-03-08|              38|       11.0|         1.0|        6.0|           2.0|             1.0|            6.0|              2|\n",
            "|     4141|         1965|   Graduacao|    Morando Junto|   71613.0|           0|           0|     2013-08-21|              26|      426.0|        49.0|      127.0|         111.0|            21.0|           42.0|              1|\n",
            "|     6182|         1984|   Graduacao|    Morando Junto|   26646.0|           1|           0|     2014-02-10|              26|       11.0|         4.0|       20.0|          10.0|             3.0|            5.0|              2|\n",
            "|     5324|         1981|   Doutorado|           Casado|   58293.0|           1|           0|     2014-01-19|              94|      173.0|        43.0|      118.0|          46.0|            27.0|           15.0|              5|\n",
            "|     7446|         1967|    Mestrado|    Morando Junto|   62513.0|           0|           1|     2013-09-09|              16|      520.0|        42.0|       98.0|           0.0|            42.0|           14.0|              2|\n",
            "|      965|         1971|   Graduacao|       Divorciado|   55635.0|           0|           1|     2012-11-13|              34|      235.0|        65.0|      164.0|          50.0|            49.0|           27.0|              4|\n",
            "|     6177|         1985|   Doutorado|           Casado|   33454.0|           1|           0|     2013-05-08|              32|       76.0|        10.0|       56.0|           3.0|             1.0|           23.0|              2|\n",
            "|     4855|         1974|   Doutorado|    Morando Junto|   30351.0|           1|           0|     2013-06-06|              19|       14.0|         0.0|       24.0|           3.0|             3.0|            2.0|              1|\n",
            "|     5899|         1950|   Doutorado|    Morando Junto|    5648.0|           1|           1|     2014-03-13|              68|       28.0|         0.0|        6.0|           1.0|             1.0|           13.0|              1|\n",
            "|     1994|         1983|   Graduacao|           Casado|      null|           1|           0|     2013-11-15|              11|        5.0|         5.0|        6.0|           0.0|             2.0|            1.0|              1|\n",
            "|      387|         1976|      Basica|           Casado|    7500.0|           0|           0|     2012-11-13|              59|        6.0|        16.0|       11.0|          11.0|             1.0|           16.0|              1|\n",
            "|     2125|         1959|   Graduacao|       Divorciado|   63033.0|           0|           0|     2013-11-15|              82|      194.0|        61.0|      480.0|         225.0|           112.0|           30.0|              1|\n",
            "|     8180|         1952|    Mestrado|       Divorciado|   59354.0|           1|           1|     2013-11-15|              53|      233.0|         2.0|       53.0|           3.0|             5.0|           14.0|              3|\n",
            "|     2569|         1987|   Graduacao|           Casado|   17323.0|           0|           0|     2012-10-10|              38|        3.0|        14.0|       17.0|           6.0|             1.0|            5.0|              1|\n",
            "|     2114|         1946|   Doutorado|         Solteiro|   82800.0|           0|           0|     2012-11-24|              23|     1006.0|        22.0|      115.0|          59.0|            68.0|           45.0|              1|\n",
            "|     9736|         1980|   Graduacao|           Casado|   41850.0|           1|           1|     2012-12-24|              51|       53.0|         5.0|       19.0|           2.0|            13.0|            4.0|              3|\n",
            "|     4939|         1946|   Graduacao|    Morando Junto|   37760.0|           0|           0|     2012-08-31|              20|       84.0|         5.0|       38.0|         150.0|            12.0|           28.0|              2|\n",
            "|     6565|         1949|    Mestrado|           Casado|   76995.0|           0|           1|     2013-03-28|              91|     1012.0|        80.0|      498.0|           0.0|            16.0|          176.0|              2|\n",
            "|     2278|         1985|2ª Graduacao|         Solteiro|   33812.0|           1|           0|     2012-11-03|              86|        4.0|        17.0|       19.0|          30.0|            24.0|           39.0|              2|\n",
            "+---------+-------------+------------+-----------------+----------+------------+------------+---------------+----------------+-----------+------------+-----------+--------------+----------------+---------------+---------------+\n",
            "only showing top 20 rows\n",
            "\n"
          ]
        }
      ]
    },
    {
      "cell_type": "code",
      "metadata": {
        "id": "UC-kMTL99MfS"
      },
      "source": [
        "#REALIZANDO UM BACKUP DO DATAFRAME\n",
        "backup1 = df1"
      ],
      "execution_count": null,
      "outputs": []
    },
    {
      "cell_type": "code",
      "metadata": {
        "id": "DxYXbcYf0ffn",
        "colab": {
          "base_uri": "https://localhost:8080/"
        },
        "outputId": "8580f82d-4790-4087-a512-a1eb096dd7b3"
      },
      "source": [
        "#ALTERANDO O NOME DE DUAS COLUNAS\n",
        "\n",
        "df1 = df1.withColumnRenamed(\"idCliente\", \"id\").withColumnRenamed(\"anoNascimento\", \"anoNasc\")\n",
        "df1.show(1)\n"
      ],
      "execution_count": null,
      "outputs": [
        {
          "output_type": "stream",
          "name": "stdout",
          "text": [
            "+----+-------+------------+-----------------+----------+------------+------------+---------------+----------------+-----------+------------+-----------+--------------+----------------+---------------+---------------+\n",
            "|  id|anoNasc|escolaridade|statusMatrimonial|rendaAnual|filhoCrianca|filhoAdolesc|ingressoCliente|diasUltimaCompra|gastosVinho|gastosFrutas|gastosCarne|gastosProdutos|gastosProdsDoces|gastosProdsOuro|comprasDesconto|\n",
            "+----+-------+------------+-----------------+----------+------------+------------+---------------+----------------+-----------+------------+-----------+--------------+----------------+---------------+---------------+\n",
            "|5524|   1957|   Graduacao|         Solteiro|   58138.0|           0|           0|     2012-09-04|              58|      635.0|        88.0|      546.0|         172.0|            88.0|           88.0|              3|\n",
            "+----+-------+------------+-----------------+----------+------------+------------+---------------+----------------+-----------+------------+-----------+--------------+----------------+---------------+---------------+\n",
            "only showing top 1 row\n",
            "\n"
          ]
        }
      ]
    },
    {
      "cell_type": "code",
      "metadata": {
        "id": "cWRcZX1B0kUM",
        "colab": {
          "base_uri": "https://localhost:8080/"
        },
        "outputId": "d76f123e-fa80-44b6-86d4-2588bbd5a85c"
      },
      "source": [
        "#CRIANDO DUAS NOVAS COLUNAS CONTENDO INFORMAÇÕES RELEVANTES SOBRE AS OUTRAS COLUNAS JÁ EXISTENTES\n",
        "\n",
        "#Criando uma nova coluna com a soma dos gastos totais\n",
        "df1 = df1.withColumn(\"gastosTotais\", expr(\"gastosVinho + gastosFrutas + gastosCarne + gastosProdutos + gastosProdsDoces + gastosProdsOuro\"))\n",
        "df1.show(1)\n"
      ],
      "execution_count": null,
      "outputs": [
        {
          "output_type": "stream",
          "name": "stdout",
          "text": [
            "+----+-------+------------+-----------------+----------+------------+------------+---------------+----------------+-----------+------------+-----------+--------------+----------------+---------------+---------------+------------+\n",
            "|  id|anoNasc|escolaridade|statusMatrimonial|rendaAnual|filhoCrianca|filhoAdolesc|ingressoCliente|diasUltimaCompra|gastosVinho|gastosFrutas|gastosCarne|gastosProdutos|gastosProdsDoces|gastosProdsOuro|comprasDesconto|gastosTotais|\n",
            "+----+-------+------------+-----------------+----------+------------+------------+---------------+----------------+-----------+------------+-----------+--------------+----------------+---------------+---------------+------------+\n",
            "|5524|   1957|   Graduacao|         Solteiro|   58138.0|           0|           0|     2012-09-04|              58|      635.0|        88.0|      546.0|         172.0|            88.0|           88.0|              3|      1617.0|\n",
            "+----+-------+------------+-----------------+----------+------------+------------+---------------+----------------+-----------+------------+-----------+--------------+----------------+---------------+---------------+------------+\n",
            "only showing top 1 row\n",
            "\n"
          ]
        }
      ]
    },
    {
      "cell_type": "code",
      "metadata": {
        "id": "e2eijnLmDj6g",
        "colab": {
          "base_uri": "https://localhost:8080/"
        },
        "outputId": "385b9174-ec01-460b-cdf4-ca95e9b55506"
      },
      "source": [
        "#Criando uma nova coluna que caso o cliente não realize compras há mais de dois meses, informe sua ausência\n",
        "df1 = (df1.withColumn(\"ausente\", F.when(F.col(\"diasUltimaCompra\") > 60, \"sim\")\n",
        "          .otherwise(\"nao\"))    \n",
        "      )\n",
        "df1.show(10)"
      ],
      "execution_count": null,
      "outputs": [
        {
          "output_type": "stream",
          "name": "stdout",
          "text": [
            "+----+-------+------------+-----------------+----------+------------+------------+---------------+----------------+-----------+------------+-----------+--------------+----------------+---------------+---------------+------------+-------+\n",
            "|  id|anoNasc|escolaridade|statusMatrimonial|rendaAnual|filhoCrianca|filhoAdolesc|ingressoCliente|diasUltimaCompra|gastosVinho|gastosFrutas|gastosCarne|gastosProdutos|gastosProdsDoces|gastosProdsOuro|comprasDesconto|gastosTotais|ausente|\n",
            "+----+-------+------------+-----------------+----------+------------+------------+---------------+----------------+-----------+------------+-----------+--------------+----------------+---------------+---------------+------------+-------+\n",
            "|5524|   1957|   Graduacao|         Solteiro|   58138.0|           0|           0|     2012-09-04|              58|      635.0|        88.0|      546.0|         172.0|            88.0|           88.0|              3|      1617.0|    nao|\n",
            "|2174|   1954|   Graduacao|         Solteiro|   46344.0|           1|           1|     2014-03-08|              38|       11.0|         1.0|        6.0|           2.0|             1.0|            6.0|              2|        27.0|    nao|\n",
            "|4141|   1965|   Graduacao|    Morando Junto|   71613.0|           0|           0|     2013-08-21|              26|      426.0|        49.0|      127.0|         111.0|            21.0|           42.0|              1|       776.0|    nao|\n",
            "|6182|   1984|   Graduacao|    Morando Junto|   26646.0|           1|           0|     2014-02-10|              26|       11.0|         4.0|       20.0|          10.0|             3.0|            5.0|              2|        53.0|    nao|\n",
            "|5324|   1981|   Doutorado|           Casado|   58293.0|           1|           0|     2014-01-19|              94|      173.0|        43.0|      118.0|          46.0|            27.0|           15.0|              5|       422.0|    sim|\n",
            "|7446|   1967|    Mestrado|    Morando Junto|   62513.0|           0|           1|     2013-09-09|              16|      520.0|        42.0|       98.0|           0.0|            42.0|           14.0|              2|       716.0|    nao|\n",
            "| 965|   1971|   Graduacao|       Divorciado|   55635.0|           0|           1|     2012-11-13|              34|      235.0|        65.0|      164.0|          50.0|            49.0|           27.0|              4|       590.0|    nao|\n",
            "|6177|   1985|   Doutorado|           Casado|   33454.0|           1|           0|     2013-05-08|              32|       76.0|        10.0|       56.0|           3.0|             1.0|           23.0|              2|       169.0|    nao|\n",
            "|4855|   1974|   Doutorado|    Morando Junto|   30351.0|           1|           0|     2013-06-06|              19|       14.0|         0.0|       24.0|           3.0|             3.0|            2.0|              1|        46.0|    nao|\n",
            "|5899|   1950|   Doutorado|    Morando Junto|    5648.0|           1|           1|     2014-03-13|              68|       28.0|         0.0|        6.0|           1.0|             1.0|           13.0|              1|        49.0|    sim|\n",
            "+----+-------+------------+-----------------+----------+------------+------------+---------------+----------------+-----------+------------+-----------+--------------+----------------+---------------+---------------+------------+-------+\n",
            "only showing top 10 rows\n",
            "\n"
          ]
        }
      ]
    },
    {
      "cell_type": "code",
      "metadata": {
        "id": "-nyzfGmF02NG",
        "colab": {
          "base_uri": "https://localhost:8080/"
        },
        "outputId": "0d831faf-b9c3-4a96-9b1d-debc9a575a84"
      },
      "source": [
        "#UTILIZANDO FILTROS, ORDENACAO E AGRUPAMENTO, PARA TRAZER DADOS RELEVANTES PARA O NEGÓCIO EM QUESTAO\n",
        "\n",
        "#Somando os gastos totais por status civil, afim de descobrir quais deles gastam mais e com o quê.\n",
        "df1.groupBy(F.col(\"statusMatrimonial\")).agg(\n",
        "    F.sum(F.col(\"gastosVinho\")).alias(\"gastoTotalVin\"),\n",
        "    F.sum(F.col(\"gastosFrutas\")).alias(\"gastoTotalFru\"),\n",
        "    F.sum(F.col(\"gastosCarne\")).alias(\"gastoTotalCar\"),\n",
        "    F.sum(F.col(\"gastosProdutos\")).alias(\"gastoTotalPro\"),\n",
        "    F.sum(F.col(\"gastosProdsDoces\")).alias(\"gastoTotalPD\"),\n",
        "    F.sum(F.col(\"gastosProdsOuro\")).alias(\"gastoTotalPO\")\n",
        ").orderBy(\"statusMatrimonial\").show()"
      ],
      "execution_count": null,
      "outputs": [
        {
          "output_type": "stream",
          "name": "stdout",
          "text": [
            "+-----------------+-------------+-------------+-------------+-------------+------------+------------+\n",
            "|statusMatrimonial|gastoTotalVin|gastoTotalFru|gastoTotalCar|gastoTotalPro|gastoTotalPD|gastoTotalPO|\n",
            "+-----------------+-------------+-------------+-------------+-------------+------------+------------+\n",
            "|           Casado|     258751.0|      22235.0|     138829.0|      30569.0|     23070.0|     36999.0|\n",
            "|       Divorciado|      75364.0|       6363.0|      34848.0|       8130.0|      6222.0|     10739.0|\n",
            "|          Incerto|        711.0|        169.0|        625.0|        411.0|        61.0|       408.0|\n",
            "|    Morando Junto|     177959.0|      14703.0|      97500.0|      22615.0|     15151.0|     24937.0|\n",
            "|            Noivo|        644.0|          6.0|        100.0|          8.0|         6.0|        84.0|\n",
            "|         Solteiro|     138953.0|      12893.0|      87491.0|      18367.0|     13107.0|     21071.0|\n",
            "|            Viuvo|      28434.0|       2548.0|      14575.0|       3957.0|      3004.0|      4371.0|\n",
            "+-----------------+-------------+-------------+-------------+-------------+------------+------------+\n",
            "\n"
          ]
        }
      ]
    },
    {
      "cell_type": "code",
      "metadata": {
        "colab": {
          "base_uri": "https://localhost:8080/"
        },
        "id": "Pw8uU3J7Obm2",
        "outputId": "921e2c2a-d02c-4a5a-de99-e3e1775234a2"
      },
      "source": [
        "#Contando as compras totais por status civil, afim de descobrir quais deles realizam mais compras e quanto gastam em vinho\n",
        "df1.groupBy(F.col(\"statusMatrimonial\")).agg(\n",
        "    F.count(\"statusMatrimonial\").alias(\"quantCompras\"),\n",
        "    F.sum(\"gastosVinho\").alias(\"gastoTotalVin\"),\n",
        "    F.sum(\"gastosTotais\").alias(\"gastoTotal\")\n",
        "    ).orderBy(F.col(\"quantCompras\").desc()).show()"
      ],
      "execution_count": null,
      "outputs": [
        {
          "output_type": "stream",
          "name": "stdout",
          "text": [
            "+-----------------+------------+-------------+----------+\n",
            "|statusMatrimonial|quantCompras|gastoTotalVin|gastoTotal|\n",
            "+-----------------+------------+-------------+----------+\n",
            "|           Casado|         864|     258751.0|  510453.0|\n",
            "|    Morando Junto|         580|     177959.0|  352865.0|\n",
            "|         Solteiro|         483|     138953.0|  291882.0|\n",
            "|       Divorciado|         232|      75364.0|  141666.0|\n",
            "|            Viuvo|          77|      28434.0|   56889.0|\n",
            "|            Noivo|           2|        644.0|     848.0|\n",
            "|          Incerto|           2|        711.0|    2385.0|\n",
            "+-----------------+------------+-------------+----------+\n",
            "\n"
          ]
        }
      ]
    },
    {
      "cell_type": "code",
      "metadata": {
        "colab": {
          "base_uri": "https://localhost:8080/"
        },
        "id": "cCr1cFPkQwQ1",
        "outputId": "a2e032d5-1958-45de-add4-15b681a30a9e"
      },
      "source": [
        "#Filtrando os maiores gastos com vinho e carne; Agrupando, contando e somando afim de descobrir em qual nível de escolaridade estão aqueles que mais gastam com vinho e carne. \n",
        "df_vin_car = df1.filter((F.col(\"gastosVinho\") > 700) & (F.col(\"gastosCarne\") > 500))\n",
        "\n",
        "df_vin_car.groupBy(F.col(\"escolaridade\")).agg(\n",
        "    F.count(F.col(\"escolaridade\")).alias(\"quantEscol\"),\n",
        "    F.sum(F.col(\"gastosVinho\")).alias(\"somaGastosVinho\"),\n",
        "    F.sum(F.col(\"gastosCarne\")).alias(\"somagGastosCarne\")\n",
        ").orderBy(F.col(\"quantEscol\").desc()).show()\n"
      ],
      "execution_count": null,
      "outputs": [
        {
          "output_type": "stream",
          "name": "stdout",
          "text": [
            "+------------+----------+---------------+----------------+\n",
            "|escolaridade|quantEscol|somaGastosVinho|somagGastosCarne|\n",
            "+------------+----------+---------------+----------------+\n",
            "|   Graduacao|        38|        35034.0|         27155.0|\n",
            "|   Doutorado|        29|        27345.0|         19222.0|\n",
            "|    Mestrado|        25|        23932.0|         17877.0|\n",
            "|2ª Graduacao|         2|         1809.0|          1458.0|\n",
            "+------------+----------+---------------+----------------+\n",
            "\n"
          ]
        }
      ]
    },
    {
      "cell_type": "code",
      "metadata": {
        "id": "AKL6ZPn21Bgn",
        "colab": {
          "base_uri": "https://localhost:8080/"
        },
        "outputId": "b1625f54-632a-43e6-9801-322ad8e662eb"
      },
      "source": [
        "#UTILIZANDO WINDOW FUNCTIONS\n",
        "\n",
        "#Usando o window function para descobrir quais clientes estão mais ausentes, ordenando em ordem decrescente\n",
        "w0 = Window.orderBy(F.col(\"diasUltimaCompra\").desc())\n",
        "\n",
        "(df1.select(col(\"id\"), col(\"gastosTotais\"), col(\"diasUltimaCompra\"))\n",
        "                   .withColumn(\"maiorAusencia\", F.row_number()\n",
        "                   .over(w0))\n",
        "                   .show()\n",
        "                   )"
      ],
      "execution_count": null,
      "outputs": [
        {
          "output_type": "stream",
          "name": "stdout",
          "text": [
            "+-----+------------+----------------+-------------+\n",
            "|   id|gastosTotais|diasUltimaCompra|maiorAusencia|\n",
            "+-----+------------+----------------+-------------+\n",
            "| 7829|        65.0|              99|            1|\n",
            "| 8595|        67.0|              99|            2|\n",
            "|  868|        65.0|              99|            3|\n",
            "| 2106|        34.0|              99|            4|\n",
            "|   22|       309.0|              99|            5|\n",
            "| 7232|        67.0|              99|            6|\n",
            "|10142|       689.0|              99|            7|\n",
            "| 9977|       734.0|              99|            8|\n",
            "| 7212|        65.0|              99|            9|\n",
            "|  528|      1383.0|              99|           10|\n",
            "| 7947|        37.0|              99|           11|\n",
            "| 5263|        55.0|              99|           12|\n",
            "| 3363|        34.0|              99|           13|\n",
            "| 4070|      1078.0|              99|           14|\n",
            "| 2831|      1179.0|              99|           15|\n",
            "| 2415|       953.0|              99|           16|\n",
            "| 1743|       801.0|              99|           17|\n",
            "| 2320|       635.0|              98|           18|\n",
            "|  213|        48.0|              98|           19|\n",
            "| 6722|       767.0|              98|           20|\n",
            "+-----+------------+----------------+-------------+\n",
            "only showing top 20 rows\n",
            "\n"
          ]
        }
      ]
    },
    {
      "cell_type": "code",
      "metadata": {
        "colab": {
          "base_uri": "https://localhost:8080/"
        },
        "id": "7VyaxYNAhnBI",
        "outputId": "a7c4e147-1829-4ae4-d683-338360b1c906"
      },
      "source": [
        "#Criando um ranking por grau de escolaridade, para descobrir o status civil dos que mais gastam\n",
        "w1 = Window.partitionBy(F.col(\"escolaridade\")).orderBy(F.col(\"gastosTotais\").desc())\n",
        "\n",
        "(df1.select(col(\"id\"), col(\"statusMatrimonial\"), col(\"escolaridade\"), col(\"rendaAnual\"), col(\"gastosTotais\"))\n",
        "    .withColumn(\"ranking\", F.row_number()\n",
        "    .over(w1))\n",
        "    .show()\n",
        ")"
      ],
      "execution_count": null,
      "outputs": [
        {
          "output_type": "stream",
          "name": "stdout",
          "text": [
            "+-----+-----------------+------------+----------+------------+-------+\n",
            "|   id|statusMatrimonial|escolaridade|rendaAnual|gastosTotais|ranking|\n",
            "+-----+-----------------+------------+----------+------------+-------+\n",
            "| 2186|    Morando Junto|2ª Graduacao|   82326.0|      2257.0|      1|\n",
            "| 4947|         Solteiro|2ª Graduacao|   89572.0|      2059.0|      2|\n",
            "| 3139|         Solteiro|2ª Graduacao|   74116.0|      2052.0|      3|\n",
            "| 4856|           Casado|2ª Graduacao|   82347.0|      1853.0|      4|\n",
            "| 8722|           Casado|2ª Graduacao|   82347.0|      1853.0|      5|\n",
            "| 2223|       Divorciado|2ª Graduacao|   64176.0|      1826.0|      6|\n",
            "| 8720|    Morando Junto|2ª Graduacao|      null|      1679.0|      7|\n",
            "| 5341|       Divorciado|2ª Graduacao|   81975.0|      1588.0|      8|\n",
            "| 5989|       Divorciado|2ª Graduacao|   78353.0|      1576.0|      9|\n",
            "| 7313|            Viuvo|2ª Graduacao|   74859.0|      1565.0|     10|\n",
            "| 6050|           Casado|2ª Graduacao|   57036.0|      1513.0|     11|\n",
            "| 3661|         Solteiro|2ª Graduacao|   80617.0|      1435.0|     12|\n",
            "| 9400|         Solteiro|2ª Graduacao|   85485.0|      1383.0|     13|\n",
            "| 7960|    Morando Junto|2ª Graduacao|   82122.0|      1382.0|     14|\n",
            "| 4427|         Solteiro|2ª Graduacao|   83257.0|      1365.0|     15|\n",
            "| 7010|           Casado|2ª Graduacao|   70924.0|      1363.0|     16|\n",
            "| 4767|           Casado|2ª Graduacao|   70924.0|      1363.0|     17|\n",
            "|10343|         Solteiro|2ª Graduacao|   61618.0|      1345.0|     18|\n",
            "| 8204|           Casado|2ª Graduacao|   78041.0|      1319.0|     19|\n",
            "| 9305|         Solteiro|2ª Graduacao|   79689.0|      1315.0|     20|\n",
            "+-----+-----------------+------------+----------+------------+-------+\n",
            "only showing top 20 rows\n",
            "\n"
          ]
        }
      ]
    },
    {
      "cell_type": "code",
      "metadata": {
        "id": "gjZbjNrZklMe"
      },
      "source": [
        "#ANÁLISES\n",
        "\n",
        "#Os clientes que mais gastam em uma compra são os solteiros.\n",
        "#Os clientes que mais voltam as compras são os casados, mesmo não sendo os que mais gastam.\n",
        "#Os clientes que mais gastam em vinho e carne, são os que estão se graduando.\n",
        "#Os clientes que mais estão ausentes, gastam mais com vinho e carne\n",
        "#Os clientes que mais gastam, idependente do nível de escolaridade, são os solteiros."
      ],
      "execution_count": null,
      "outputs": []
    },
    {
      "cell_type": "code",
      "metadata": {
        "id": "xeD9PU6dpBrU"
      },
      "source": [
        "#SALVANDO O DATAFRAME\n",
        "\n",
        "(df1.write.format(\"csv\")\n",
        "    .option(\"header\", \"true\")\n",
        "    .option(\"delimiter\",\",\")\n",
        "    .save(\"/content/drive/MyDrive/new/struct_marketing_campaign.csv\")\n",
        ")"
      ],
      "execution_count": null,
      "outputs": []
    },
    {
      "cell_type": "markdown",
      "metadata": {
        "id": "xI0TlC7i1Mia"
      },
      "source": [
        "Nível Spark SQL:"
      ]
    },
    {
      "cell_type": "code",
      "metadata": {
        "id": "wEr2w9HPvl6g"
      },
      "source": [
        "#EXPORTANDO O DATAFRAME RESULTANTE DO \"NÍVEL PANDAS\"\n",
        "df5 = (spark\n",
        "       .read\n",
        "       .format(\"csv\")\n",
        "       .option(\"header\", \"true\")\n",
        "       .option(\"inferschema\", \"true\")\n",
        "       .option(\"delimiter\", \",\")\n",
        "       .load(\"/content/drive/MyDrive/clear_marketing_campaign.csv\")\n",
        "       .createOrReplaceTempView(\"mkt_camp\")\n",
        ")"
      ],
      "execution_count": null,
      "outputs": []
    },
    {
      "cell_type": "code",
      "metadata": {
        "colab": {
          "base_uri": "https://localhost:8080/"
        },
        "id": "ilzh_xPNwSlI",
        "outputId": "06b8f0f0-8282-4b1f-c929-7beb90b91793"
      },
      "source": [
        "#VISUALIZANDO A VIEW RECÉM CRIADA\n",
        "spark.sql(\"\"\"SELECT * FROM mkt_camp\"\"\").show()"
      ],
      "execution_count": null,
      "outputs": [
        {
          "output_type": "stream",
          "name": "stdout",
          "text": [
            "+---------+-------------+------------+-----------------+----------+------------+------------+---------------+----------------+-----------+------------+-----------+--------------+----------------+---------------+---------------+----------+---------------+-----------+-------------+---------------------+---------------------+---------------------+---------------------+---------------------+-----------+----------------------+\n",
            "|idCliente|anoNascimento|escolaridade|statusMatrimonial|rendaAnual|filhoCrianca|filhoAdolesc|ingressoCliente|diasUltimaCompra|gastosVinho|gastosFrutas|gastosCarne|gastosProdutos|gastosProdsDoces|gastosProdsOuro|comprasDesconto|comprasWeb|comprasCatalogo|comprasLoja|visitasWebMes|ofertaAceitaCampanha3|ofertaAceitaCampanha4|ofertaAceitaCampanha5|ofertaAceitaCampanha1|ofertaAceitaCampanha2|reclamacoes|ofertaAceitaUltimaCamp|\n",
            "+---------+-------------+------------+-----------------+----------+------------+------------+---------------+----------------+-----------+------------+-----------+--------------+----------------+---------------+---------------+----------+---------------+-----------+-------------+---------------------+---------------------+---------------------+---------------------+---------------------+-----------+----------------------+\n",
            "|     5524|         1957|   Graduacao|         Solteiro|   58138.0|           0|           0|     2012-09-04|              58|      635.0|        88.0|      546.0|         172.0|            88.0|           88.0|              3|         8|             10|          4|            7|                    0|                    0|                    0|                    0|                    0|          0|                     1|\n",
            "|     2174|         1954|   Graduacao|         Solteiro|   46344.0|           1|           1|     2014-03-08|              38|       11.0|         1.0|        6.0|           2.0|             1.0|            6.0|              2|         1|              1|          2|            5|                    0|                    0|                    0|                    0|                    0|          0|                     0|\n",
            "|     4141|         1965|   Graduacao|    Morando Junto|   71613.0|           0|           0|     2013-08-21|              26|      426.0|        49.0|      127.0|         111.0|            21.0|           42.0|              1|         8|              2|         10|            4|                    0|                    0|                    0|                    0|                    0|          0|                     0|\n",
            "|     6182|         1984|   Graduacao|    Morando Junto|   26646.0|           1|           0|     2014-02-10|              26|       11.0|         4.0|       20.0|          10.0|             3.0|            5.0|              2|         2|              0|          4|            6|                    0|                    0|                    0|                    0|                    0|          0|                     0|\n",
            "|     5324|         1981|   Doutorado|           Casado|   58293.0|           1|           0|     2014-01-19|              94|      173.0|        43.0|      118.0|          46.0|            27.0|           15.0|              5|         5|              3|          6|            5|                    0|                    0|                    0|                    0|                    0|          0|                     0|\n",
            "|     7446|         1967|    Mestrado|    Morando Junto|   62513.0|           0|           1|     2013-09-09|              16|      520.0|        42.0|       98.0|           0.0|            42.0|           14.0|              2|         6|              4|         10|            6|                    0|                    0|                    0|                    0|                    0|          0|                     0|\n",
            "|      965|         1971|   Graduacao|       Divorciado|   55635.0|           0|           1|     2012-11-13|              34|      235.0|        65.0|      164.0|          50.0|            49.0|           27.0|              4|         7|              3|          7|            6|                    0|                    0|                    0|                    0|                    0|          0|                     0|\n",
            "|     6177|         1985|   Doutorado|           Casado|   33454.0|           1|           0|     2013-05-08|              32|       76.0|        10.0|       56.0|           3.0|             1.0|           23.0|              2|         4|              0|          4|            8|                    0|                    0|                    0|                    0|                    0|          0|                     0|\n",
            "|     4855|         1974|   Doutorado|    Morando Junto|   30351.0|           1|           0|     2013-06-06|              19|       14.0|         0.0|       24.0|           3.0|             3.0|            2.0|              1|         3|              0|          2|            9|                    0|                    0|                    0|                    0|                    0|          0|                     1|\n",
            "|     5899|         1950|   Doutorado|    Morando Junto|    5648.0|           1|           1|     2014-03-13|              68|       28.0|         0.0|        6.0|           1.0|             1.0|           13.0|              1|         1|              0|          0|           20|                    1|                    0|                    0|                    0|                    0|          0|                     0|\n",
            "|     1994|         1983|   Graduacao|           Casado|      null|           1|           0|     2013-11-15|              11|        5.0|         5.0|        6.0|           0.0|             2.0|            1.0|              1|         1|              0|          2|            7|                    0|                    0|                    0|                    0|                    0|          0|                     0|\n",
            "|      387|         1976|      Basica|           Casado|    7500.0|           0|           0|     2012-11-13|              59|        6.0|        16.0|       11.0|          11.0|             1.0|           16.0|              1|         2|              0|          3|            8|                    0|                    0|                    0|                    0|                    0|          0|                     0|\n",
            "|     2125|         1959|   Graduacao|       Divorciado|   63033.0|           0|           0|     2013-11-15|              82|      194.0|        61.0|      480.0|         225.0|           112.0|           30.0|              1|         3|              4|          8|            2|                    0|                    0|                    0|                    0|                    0|          0|                     0|\n",
            "|     8180|         1952|    Mestrado|       Divorciado|   59354.0|           1|           1|     2013-11-15|              53|      233.0|         2.0|       53.0|           3.0|             5.0|           14.0|              3|         6|              1|          5|            6|                    0|                    0|                    0|                    0|                    0|          0|                     0|\n",
            "|     2569|         1987|   Graduacao|           Casado|   17323.0|           0|           0|     2012-10-10|              38|        3.0|        14.0|       17.0|           6.0|             1.0|            5.0|              1|         1|              0|          3|            8|                    0|                    0|                    0|                    0|                    0|          0|                     0|\n",
            "|     2114|         1946|   Doutorado|         Solteiro|   82800.0|           0|           0|     2012-11-24|              23|     1006.0|        22.0|      115.0|          59.0|            68.0|           45.0|              1|         7|              6|         12|            3|                    0|                    0|                    1|                    1|                    0|          0|                     1|\n",
            "|     9736|         1980|   Graduacao|           Casado|   41850.0|           1|           1|     2012-12-24|              51|       53.0|         5.0|       19.0|           2.0|            13.0|            4.0|              3|         3|              0|          3|            8|                    0|                    0|                    0|                    0|                    0|          0|                     0|\n",
            "|     4939|         1946|   Graduacao|    Morando Junto|   37760.0|           0|           0|     2012-08-31|              20|       84.0|         5.0|       38.0|         150.0|            12.0|           28.0|              2|         4|              1|          6|            7|                    0|                    0|                    0|                    0|                    0|          0|                     0|\n",
            "|     6565|         1949|    Mestrado|           Casado|   76995.0|           0|           1|     2013-03-28|              91|     1012.0|        80.0|      498.0|           0.0|            16.0|          176.0|              2|        11|              4|          9|            5|                    0|                    0|                    0|                    1|                    0|          0|                     0|\n",
            "|     2278|         1985|2ª Graduacao|         Solteiro|   33812.0|           1|           0|     2012-11-03|              86|        4.0|        17.0|       19.0|          30.0|            24.0|           39.0|              2|         2|              1|          3|            6|                    0|                    0|                    0|                    0|                    0|          0|                     0|\n",
            "+---------+-------------+------------+-----------------+----------+------------+------------+---------------+----------------+-----------+------------+-----------+--------------+----------------+---------------+---------------+----------+---------------+-----------+-------------+---------------------+---------------------+---------------------+---------------------+---------------------+-----------+----------------------+\n",
            "only showing top 20 rows\n",
            "\n"
          ]
        }
      ]
    },
    {
      "cell_type": "code",
      "metadata": {
        "id": "joPkj_cz1PJ8",
        "colab": {
          "base_uri": "https://localhost:8080/"
        },
        "outputId": "b853d82d-4eea-4c2c-daae-fd9ad4a023f9"
      },
      "source": [
        "#C1#\n",
        "\n",
        "#Visualizando os gastos gerais dos clientes que sao casados, tem criança e adolescente em casa, e possuem renda anual de mais de R$60.000\n",
        "spark.sql(\"\"\"\n",
        "  SELECT idCliente, gastosVinho, gastosFrutas, gastosCarne, gastosProdutos, gastosProdsDoces, gastosProdsOuro\n",
        "  FROM mkt_camp\n",
        "  WHERE statusMatrimonial == \"Casado\" and filhoCrianca > 0 and filhoAdolesc > 0 and rendaAnual > 60000\n",
        "  ORDER BY rendaAnual DESC\n",
        "\"\"\").show()"
      ],
      "execution_count": null,
      "outputs": [
        {
          "output_type": "stream",
          "name": "stdout",
          "text": [
            "+---------+-----------+------------+-----------+--------------+----------------+---------------+\n",
            "|idCliente|gastosVinho|gastosFrutas|gastosCarne|gastosProdutos|gastosProdsDoces|gastosProdsOuro|\n",
            "+---------+-----------+------------+-----------+--------------+----------------+---------------+\n",
            "|     9499|     1279.0|        15.0|      287.0|          20.0|             0.0|           15.0|\n",
            "|     4786|      555.0|        82.0|      257.0|          93.0|            61.0|           61.0|\n",
            "|     1081|      733.0|         9.0|      180.0|          12.0|            19.0|           66.0|\n",
            "|     6566|      826.0|        50.0|      317.0|          50.0|            38.0|           38.0|\n",
            "|     6131|      141.0|        70.0|      106.0|          72.0|            19.0|           23.0|\n",
            "|    10660|      349.0|         7.0|       35.0|           0.0|             0.0|           47.0|\n",
            "|      246|      199.0|         9.0|       57.0|          20.0|            21.0|            6.0|\n",
            "|     9381|      328.0|         9.0|      124.0|          12.0|            24.0|          109.0|\n",
            "|     9384|      328.0|         9.0|      124.0|          12.0|            24.0|          109.0|\n",
            "|     4437|      112.0|         6.0|       92.0|           3.0|             9.0|           38.0|\n",
            "|     4478|      457.0|         5.0|      106.0|          15.0|            17.0|           53.0|\n",
            "|     4491|     1099.0|         0.0|       45.0|           0.0|             0.0|           34.0|\n",
            "|      873|     1099.0|         0.0|       45.0|           0.0|             0.0|           34.0|\n",
            "|     1518|      379.0|         6.0|      157.0|          25.0|            91.0|           91.0|\n",
            "|     5734|       46.0|         4.0|       36.0|           2.0|             2.0|            1.0|\n",
            "|     8132|      565.0|         6.0|       65.0|           0.0|             6.0|           19.0|\n",
            "|     3478|      267.0|        42.0|      309.0|          55.0|            42.0|           21.0|\n",
            "|     4094|      201.0|         2.0|       43.0|           3.0|             5.0|           35.0|\n",
            "|     8588|      201.0|         2.0|       43.0|           3.0|             5.0|           35.0|\n",
            "+---------+-----------+------------+-----------+--------------+----------------+---------------+\n",
            "\n"
          ]
        }
      ]
    },
    {
      "cell_type": "code",
      "metadata": {
        "id": "tqNI_1Ul1orr",
        "colab": {
          "base_uri": "https://localhost:8080/"
        },
        "outputId": "12e5a796-29d8-4fb6-cdb6-7dc2a279e222"
      },
      "source": [
        "#C2#\n",
        "\n",
        "#Visualizando a quantidade de clientes que mais gastam, de acordo com seus respectivos estado civis\n",
        "spark.sql(\"\"\"\n",
        "  SELECT statusMatrimonial, \n",
        "    COUNT(idCliente) AS quantCli,\n",
        "    SUM(gastosVinho+gastosFrutas+gastosCarne+gastosProdutos+gastosProdsDoces+gastosProdsOuro) AS totalGasto \n",
        "  FROM mkt_camp\n",
        "  GROUP BY statusMatrimonial\n",
        "  ORDER BY totalGasto\n",
        "\"\"\").show()"
      ],
      "execution_count": null,
      "outputs": [
        {
          "output_type": "stream",
          "name": "stdout",
          "text": [
            "+-----------------+--------+----------+\n",
            "|statusMatrimonial|quantCli|totalGasto|\n",
            "+-----------------+--------+----------+\n",
            "|            Noivo|       2|     848.0|\n",
            "|          Incerto|       2|    2385.0|\n",
            "|            Viuvo|      77|   56889.0|\n",
            "|       Divorciado|     232|  141666.0|\n",
            "|         Solteiro|     483|  291882.0|\n",
            "|    Morando Junto|     580|  352865.0|\n",
            "|           Casado|     864|  510453.0|\n",
            "+-----------------+--------+----------+\n",
            "\n"
          ]
        }
      ]
    },
    {
      "cell_type": "code",
      "metadata": {
        "id": "pQJzhuYV1o4Q",
        "colab": {
          "base_uri": "https://localhost:8080/"
        },
        "outputId": "628dd02b-3bdc-4e82-a34b-a0980678a93a"
      },
      "source": [
        "#C3#\n",
        "\n",
        "#Verificando o quanto costumam gastar os clientes que tem criança e adolescente em casa, e são solteiros\n",
        "spark.sql(\"\"\"\n",
        "  SELECT idCliente, \n",
        "    SUM(filhoCrianca+filhoAdolesc) AS quantFilhos, \n",
        "    SUM(gastosVinho+gastosFrutas+gastosCarne+gastosProdutos+gastosProdsDoces+gastosProdsOuro) AS totalGasto\n",
        "  FROM mkt_camp\n",
        "  WHERE statusMatrimonial == \"Solteiro\"\n",
        "  GROUP BY idCliente\n",
        "  HAVING quantFilhos >= 2\n",
        "  ORDER BY totalGasto DESC\n",
        "\"\"\").show()"
      ],
      "execution_count": null,
      "outputs": [
        {
          "output_type": "stream",
          "name": "stdout",
          "text": [
            "+---------+-----------+----------+\n",
            "|idCliente|quantFilhos|totalGasto|\n",
            "+---------+-----------+----------+\n",
            "|     6749|          2|    1722.0|\n",
            "|     4974|          3|    1392.0|\n",
            "|     7966|          2|    1191.0|\n",
            "|     8957|          2|    1120.0|\n",
            "|     2863|          3|    1052.0|\n",
            "|     8897|          2|     654.0|\n",
            "|      433|          2|     632.0|\n",
            "|    10379|          2|     574.0|\n",
            "|     6887|          2|     564.0|\n",
            "|     7500|          2|     564.0|\n",
            "|     6097|          2|     561.0|\n",
            "|     4426|          2|     527.0|\n",
            "|     1165|          2|     496.0|\n",
            "|    10971|          2|     473.0|\n",
            "|     2552|          3|     446.0|\n",
            "|     6798|          2|     433.0|\n",
            "|     4168|          2|     433.0|\n",
            "|     6237|          2|     416.0|\n",
            "|     1406|          2|     415.0|\n",
            "|     1542|          3|     396.0|\n",
            "+---------+-----------+----------+\n",
            "only showing top 20 rows\n",
            "\n"
          ]
        }
      ]
    },
    {
      "cell_type": "code",
      "metadata": {
        "colab": {
          "base_uri": "https://localhost:8080/"
        },
        "id": "eyL0WBxRBqgi",
        "outputId": "f242fdbe-a529-462e-cdd9-16149767aeba"
      },
      "source": [
        "#C4#\n",
        "\n",
        "#Verificando o quanto costumam gastar os clientes que não tem criança e adolescente em casa e sao casados\n",
        "spark.sql(\"\"\"\n",
        "  SELECT idCliente, \n",
        "    SUM(filhoCrianca+filhoAdolesc) AS quantFilhos, \n",
        "    SUM(gastosVinho+gastosFrutas+gastosCarne+gastosProdutos+gastosProdsDoces+gastosProdsOuro) AS totalGasto\n",
        "  FROM mkt_camp\n",
        "  WHERE statusMatrimonial == \"Casado\"\n",
        "  GROUP BY idCliente\n",
        "  HAVING quantFilhos == 0\n",
        "  ORDER BY totalGasto DESC\n",
        "\"\"\").show()"
      ],
      "execution_count": null,
      "outputs": [
        {
          "output_type": "stream",
          "name": "stdout",
          "text": [
            "+---------+-----------+----------+\n",
            "|idCliente|quantFilhos|totalGasto|\n",
            "+---------+-----------+----------+\n",
            "|     4580|          0|    2486.0|\n",
            "|     4475|          0|    2440.0|\n",
            "|     5453|          0|    2352.0|\n",
            "|     9010|          0|    2346.0|\n",
            "|      737|          0|    2231.0|\n",
            "|     3334|          0|    2211.0|\n",
            "|      477|          0|    2157.0|\n",
            "|     7274|          0|    2153.0|\n",
            "|     8867|          0|    2126.0|\n",
            "|     2747|          0|    2126.0|\n",
            "|     6932|          0|    2119.0|\n",
            "|     3690|          0|    2091.0|\n",
            "|     7627|          0|    2086.0|\n",
            "|     1772|          0|    2043.0|\n",
            "|     1172|          0|    2034.0|\n",
            "|     1127|          0|    1958.0|\n",
            "|    10936|          0|    1947.0|\n",
            "|     5547|          0|    1919.0|\n",
            "|     4543|          0|    1919.0|\n",
            "|     8362|          0|    1919.0|\n",
            "+---------+-----------+----------+\n",
            "only showing top 20 rows\n",
            "\n"
          ]
        }
      ]
    },
    {
      "cell_type": "code",
      "metadata": {
        "id": "ZXheKA5n1pFo",
        "colab": {
          "base_uri": "https://localhost:8080/"
        },
        "outputId": "ba19b04c-23dd-4863-b8ec-1568d6c49f9d"
      },
      "source": [
        "#C5#\n",
        "\n",
        "#Verificando a quantidade de clientes e a media de sua renda anual, em determinado grau de escolaridade \n",
        "spark.sql(\"\"\"\n",
        "  SELECT escolaridade, \n",
        "    COUNT(idCliente) AS quantCli,\n",
        "    ROUND(AVG(rendaAnual),2) AS meRendaAnuaL\n",
        "  FROM mkt_camp\n",
        "  GROUP BY escolaridade\n",
        "  HAVING escolaridade IN (\"Graduacao\", \"Mestrado\", \"Doutorado\")\n",
        "  ORDER BY meRendaAnual\n",
        "\"\"\").show()"
      ],
      "execution_count": null,
      "outputs": [
        {
          "output_type": "stream",
          "name": "stdout",
          "text": [
            "+------------+--------+------------+\n",
            "|escolaridade|quantCli|meRendaAnuaL|\n",
            "+------------+--------+------------+\n",
            "|   Graduacao|    1127|    52720.37|\n",
            "|    Mestrado|     370|    52917.53|\n",
            "|   Doutorado|     486|    56145.31|\n",
            "+------------+--------+------------+\n",
            "\n"
          ]
        }
      ]
    },
    {
      "cell_type": "code",
      "metadata": {
        "id": "L6RjMRjk1pRV",
        "colab": {
          "base_uri": "https://localhost:8080/"
        },
        "outputId": "5f4e5bbd-397d-4f20-d9fd-4e36876de039"
      },
      "source": [
        "#C6#¨\n",
        "\n",
        "#Visualizando o valor medio gasto por clientes de acordo com seu grau de escolaridade\n",
        "spark.sql(\"\"\"\n",
        "  SELECT escolaridade, \n",
        "    ROUND(AVG(gastosVinho),2) AS meGastaVinho,\n",
        "    ROUND(AVG(gastosFrutas),2) AS meGastaFrutas,\n",
        "    ROUND(AVG(gastosCarne),2) AS meGastaCarne,\n",
        "    ROUND(AVG(gastosProdutos),2) AS meGastaProd,\n",
        "    ROUND(AVG(gastosProdsDoces),2) AS meGastaProDoces,\n",
        "    ROUND(AVG(gastosProdsOuro),2) AS meGastaProOuro\n",
        "  FROM mkt_camp\n",
        "  GROUP BY escolaridade\n",
        "  ORDER BY escolaridade\n",
        "\"\"\").show()"
      ],
      "execution_count": null,
      "outputs": [
        {
          "output_type": "stream",
          "name": "stdout",
          "text": [
            "+------------+------------+-------------+------------+-----------+---------------+--------------+\n",
            "|escolaridade|meGastaVinho|meGastaFrutas|meGastaCarne|meGastaProd|meGastaProDoces|meGastaProOuro|\n",
            "+------------+------------+-------------+------------+-----------+---------------+--------------+\n",
            "|2ª Graduacao|      198.18|        28.96|      141.26|      47.48|          34.25|          46.4|\n",
            "|      Basica|        7.24|        11.11|       11.44|      17.06|          12.11|         22.83|\n",
            "|   Doutorado|       404.5|        20.05|       168.6|      26.73|          20.22|         32.31|\n",
            "|   Graduacao|      284.27|        30.77|      179.49|      43.15|          31.37|         50.85|\n",
            "|    Mestrado|      333.08|        21.65|      163.38|       32.1|          21.18|          40.4|\n",
            "+------------+------------+-------------+------------+-----------+---------------+--------------+\n",
            "\n"
          ]
        }
      ]
    },
    {
      "cell_type": "code",
      "metadata": {
        "id": "RYT_PkjP1pd9",
        "colab": {
          "base_uri": "https://localhost:8080/"
        },
        "outputId": "fd451ee6-11ab-4f08-eb59-cee60b464ce6"
      },
      "source": [
        "#C7#\n",
        "\n",
        "#Visualizando a fatura total obtida dos clientes que ingressaram nos anos de 2012, 2013 e 2014\n",
        "spark.sql(\"\"\"\n",
        "  SELECT SUM(gastosVinho+gastosFrutas+gastosCarne+gastosProdutos+gastosProdsDoces+gastosProdsOuro) AS mnt_total_2012_13_14\n",
        "  FROM mkt_camp\n",
        "  WHERE ingressoCliente LIKE '%2012%'\n",
        "  UNION\n",
        "  SELECT SUM(gastosVinho+gastosFrutas+gastosCarne+gastosProdutos+gastosProdsDoces+gastosProdsOuro)\n",
        "  FROM mkt_camp\n",
        "  WHERE ingressoCliente LIKE '%2013%'\n",
        "  UNION\n",
        "  SELECT SUM(gastosVinho+gastosFrutas+gastosCarne+gastosProdutos+gastosProdsDoces+gastosProdsOuro) \n",
        "  FROM mkt_camp\n",
        "  WHERE ingressoCliente LIKE '%2014%'\n",
        "\"\"\").show()"
      ],
      "execution_count": null,
      "outputs": [
        {
          "output_type": "stream",
          "name": "stdout",
          "text": [
            "+--------------------+\n",
            "|mnt_total_2012_13_14|\n",
            "+--------------------+\n",
            "|            368269.0|\n",
            "|            715425.0|\n",
            "|            273294.0|\n",
            "+--------------------+\n",
            "\n"
          ]
        }
      ]
    },
    {
      "cell_type": "code",
      "metadata": {
        "id": "R5Pt0W8k1poi",
        "colab": {
          "base_uri": "https://localhost:8080/"
        },
        "outputId": "37a99ed7-d8ba-4778-80c8-06b1ba6fb0b3"
      },
      "source": [
        "#C8#\n",
        "\n",
        "#Verificando a quantidade total vendas obtidas nos diferentes tipos de comércio, por clientes que ingressaram em 2012\n",
        "spark.sql(\"\"\"\n",
        "  SELECT SUM(comprasWeb) As totalCompWeb, \n",
        "    SUM(comprasCatalogo) AS totalCompCat, \n",
        "    SUM(comprasLoja) AS totalCompLoj\n",
        "  FROM mkt_camp\n",
        "  WHERE ingressoCliente LIKE '%2012%'\n",
        "\"\"\").show()"
      ],
      "execution_count": null,
      "outputs": [
        {
          "output_type": "stream",
          "name": "stdout",
          "text": [
            "+------------+------------+------------+\n",
            "|totalCompWeb|totalCompCat|totalCompLoj|\n",
            "+------------+------------+------------+\n",
            "|        2334|        1486|        3049|\n",
            "+------------+------------+------------+\n",
            "\n"
          ]
        }
      ]
    },
    {
      "cell_type": "code",
      "metadata": {
        "id": "vSv71el11py_",
        "colab": {
          "base_uri": "https://localhost:8080/"
        },
        "outputId": "995503c4-2256-4898-84db-af31000d9a34"
      },
      "source": [
        "#C9#\n",
        "\n",
        "#Vizualizando a quantidade total de compras realizadas nos diferentes tipos de comércio, por clientes solteiros e se graduando \n",
        "spark.sql(\"\"\"\n",
        "  SELECT SUM(comprasWeb) As totalCompWeb, \n",
        "    SUM(comprasCatalogo) AS totalCompCat, \n",
        "    SUM(comprasLoja) AS totalCompLoj\n",
        "  FROM mkt_camp\n",
        "  WHERE statusMatrimonial = \"Solteiro\"\n",
        "  GROUP BY escolaridade\n",
        "  HAVING escolaridade == \"Graduacao\"\n",
        "\"\"\").show()"
      ],
      "execution_count": null,
      "outputs": [
        {
          "output_type": "stream",
          "name": "stdout",
          "text": [
            "+------------+------------+------------+\n",
            "|totalCompWeb|totalCompCat|totalCompLoj|\n",
            "+------------+------------+------------+\n",
            "|        1007|         688|        1430|\n",
            "+------------+------------+------------+\n",
            "\n"
          ]
        }
      ]
    },
    {
      "cell_type": "code",
      "metadata": {
        "id": "wq2HvW6m1qIR",
        "colab": {
          "base_uri": "https://localhost:8080/"
        },
        "outputId": "51e927a6-4ff2-44c0-cbf8-27db2b5169ba"
      },
      "source": [
        "#C10#\n",
        "\n",
        "#Vizualizando quantos clientes dos diferentes tipos de situacao matrimonial, que realizaram compras com desconto, mais visitam a página web\n",
        "spark.sql(\"\"\"\n",
        "  SELECT statusMatrimonial, \n",
        "    COUNT(idCliente) AS quantCli, \n",
        "    SUM(visitasWebMes) AS quantVisitasWeb\n",
        "  FROM mkt_camp\n",
        "  WHERE comprasDesconto > 0\n",
        "  GROUP BY statusMatrimonial\n",
        "  ORDER BY quantVisitasWeb\n",
        "\"\"\").show()"
      ],
      "execution_count": null,
      "outputs": [
        {
          "output_type": "stream",
          "name": "stdout",
          "text": [
            "+-----------------+--------+---------------+\n",
            "|statusMatrimonial|quantCli|quantVisitasWeb|\n",
            "+-----------------+--------+---------------+\n",
            "|          Incerto|       2|              3|\n",
            "|            Noivo|       2|             16|\n",
            "|            Viuvo|      74|            372|\n",
            "|       Divorciado|     227|           1254|\n",
            "|         Solteiro|     468|           2498|\n",
            "|    Morando Junto|     567|           3010|\n",
            "|           Casado|     854|           4611|\n",
            "+-----------------+--------+---------------+\n",
            "\n"
          ]
        }
      ]
    }
  ]
}